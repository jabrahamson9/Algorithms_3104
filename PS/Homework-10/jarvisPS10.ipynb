{
 "cells": [
  {
   "cell_type": "markdown",
   "metadata": {},
   "source": [
    "CSCI 3104 Spring 2018\n",
    "\n",
    "Problem Set 10\n",
    "\n",
    "\n",
    "\n",
    "06/04/2017\n",
    "\n",
    "# Problem Set 10\n",
    "***"
   ]
  },
  {
   "cell_type": "code",
   "execution_count": 8,
   "metadata": {
    "collapsed": true
   },
   "outputs": [],
   "source": [
    "import pandas as pd\n",
    "import numpy as np\n",
    "import math\n",
    "\n",
    "import matplotlib.pylab as plt\n",
    "%matplotlib inline"
   ]
  },
  {
   "cell_type": "markdown",
   "metadata": {},
   "source": [
    "### Problem 1\n",
    "\n",
    "(15 pts total) A matching in a graph $G$ is a subset $E_M \\subseteq E(G)$ of edges such that each vertex touches at most one of the edges in $E_M$. Recall that a bipartite graph is a graph $G$ on two sets of vertices, $V_1$ and $V_2$, such that every edge has one endpoint in $V_1$ and one endpoint in $V_2$. We sometimes write $G = (V_1, V_2; E)$ for this situation. For example:\n",
    "<img src=\"https://github.com/MichaelMerola/CSCI3104/blob/master/Homework-10/problem1_pics/example.PNG?raw=true\" style=\"width:40%;height:40%;\" >\n",
    "\n",
    "The edges in the example consist of all the lines, whether solid or dotted; the solid lines form a matching.\n",
    "\n",
    "The bipartite maximum matching problem is to find a matching in a given bipartite graph $G$, which has the maximum number of edges among all matchings in $G$.\n",
    "\n",
    "***"
   ]
  },
  {
   "cell_type": "markdown",
   "metadata": {},
   "source": [
    "(a) Prove that a maximum matching in a bipartite graph $G = (V_1, V_2; E)$ has size at most $\\min\\{|V_1|,|V_2|\\}$."
   ]
  },
  {
   "cell_type": "markdown",
   "metadata": {
    "collapsed": true
   },
   "source": [
    "The maximum matching problem allocates each vertex into a pair of vertices $(V_a, V_b)$ connected by an edge from $E_m$. Once a vertex has been paired, it **cannot** be connected to any other vertex by an edge from $E_m$. For two sets of vertices [$V_1, V_2$], there can't be any other edges added to $E_m$ once the smaller set of vertices have been completely matched because a vertex from the smaller set would then have more than one edge. Therefore, there can only be at most $\\min\\{|V_1|,|V_2|\\}$ edges in $E_m$.\n",
    "\n",
    "***"
   ]
  },
  {
   "cell_type": "markdown",
   "metadata": {},
   "source": [
    "(b) Show how you can use an algorithm for max-flow to solve bipartite maximum\n",
    "matching on undirected simple bipartite graphs. That is, give an algorithm which, given an undirected simple bipartite graph $G = (V_1, V_2; E)$ :\n",
    "\n",
    "**1)** constructs a directed and weighted graph $G'$ (which need not be bipartite) with weights $w : E(G') \\rightarrow \\mathbb{R}$ as well as two vertices $s, t \\in V(G');$ \n",
    "\n",
    "**2)** solves max-flow for $(G',w), s, t$ \n",
    "\n",
    "**3)** uses the solution for max-flow to find the maximum matching in $G$. \n",
    "\n",
    "Your algorithm may use any max-flow algorithm as a subroutine.\n",
    "\n",
    "***"
   ]
  },
  {
   "cell_type": "markdown",
   "metadata": {},
   "source": [
    "**given graph** $G$\n",
    "<img src=\"https://github.com/MichaelMerola/CSCI3104/blob/master/Homework-10/problem1_pics/given.jpg?raw=true\" style=\"width:25%;height:25%;\" >\n",
    "\n",
    "*My algorithm for solving bipartite max matching using max-flow would utilize ford-fulkerson as a subroutine.*\n",
    "\n",
    "1) The algo first creates $s,t$ edges where $s$ has edges that connect to $V_1$ and $t$ has edges to $V_2$. Next it assigns weights to each edge. In this example, the weights will be randomly generated numbers between 1 and 10 (in real applications, the weights could represent flow of water in lbs or even the percentage match of a person to a job). The algo would also assign directions to the graph. In this case, the direction of the edges will all be towards $t$.\n",
    "<img src=\"https://github.com/MichaelMerola/CSCI3104/blob/master/Homework-10/problem1_pics/1_gprime.jpg?raw=true\" style=\"width:30%;height:30%;\" >\n",
    "\n",
    "\n",
    "2) The algorithm would then solve for max-flow using ford-fulkerson. The greedy algorithm would choose a s-t path that has the greatest weight; however, the algo would also check both that each vertex in $(V_1,V_2)$ have at max one edge connecting them and that the number of paths between $(V_1,V_2)$ does not exceed $\\min\\{|V_1|,|V_2|\\}$.\n",
    "<img src=\"https://github.com/MichaelMerola/CSCI3104/blob/master/Homework-10/problem1_pics/2_maxflow.jpg?raw=true\" style=\"width:30%;height:30%;\" >\n",
    "\n",
    "3) Using the solution from the max-flow, my algorithm adds the edges from the solution paths to $E_m$ which represents the edges that solve bipartite max matching in $G$.\n",
    "<img src=\"https://github.com/MichaelMerola/CSCI3104/blob/master/Homework-10/problem1_pics/3_maxmatch.jpg?raw=true\" style=\"width:25%;height:25%;\" >\n",
    "\n",
    "***"
   ]
  },
  {
   "cell_type": "markdown",
   "metadata": {},
   "source": [
    "(c) Show the weighted graph constructed by your algorithm on the example bipartite graph above."
   ]
  },
  {
   "cell_type": "markdown",
   "metadata": {},
   "source": [
    "ORIGINAL\n",
    "<img src=\"https://github.com/MichaelMerola/CSCI3104/blob/master/Homework-10/problem1_pics/example.PNG?raw=true\" style=\"width:40%;height:40%;\" >\n",
    "\n",
    "Using Algorithm\n",
    "<img src=\"https://github.com/MichaelMerola/CSCI3104/blob/master/Homework-10/problem1_pics/examplegraph.jpg?raw=true\" style=\"width:35%;height:35%;\" >"
   ]
  },
  {
   "cell_type": "markdown",
   "metadata": {},
   "source": [
    "By giving weight **1** to the dark lines and **0** to the dotted lines, my algorithm identifies the max-flow through the weighted lines and stops assigning lines to $E_m$ once their is $\\min\\{|V_1|,|V_2|\\}$ edges.\n",
    "\n",
    "***"
   ]
  },
  {
   "cell_type": "markdown",
   "metadata": {},
   "source": [
    "### Problem 2\n",
    "\n",
    "(20 pts total) In the review session for his Deep Wizarding class, Dumbledore reminds everyone that the logical definition of NP requires that the number of bits in the witness $w$ is polynomial in the number of bits of the input $n$. That is, $|w| = poly(n)$. With a smile, he says that in beginner wizarding, witnesses are usually only logarithmic in size, i.e., $|w| = O(\\log n)$."
   ]
  },
  {
   "cell_type": "markdown",
   "metadata": {},
   "source": [
    "(a) Because you are a model student, Dumbledore asks you to prove, in front of the whole class, that any such property is in the complexity class P."
   ]
  },
  {
   "cell_type": "markdown",
   "metadata": {},
   "source": [
    "In general, $P \\subseteq NP$ which means that any $w$ that can be solved in NP can be solved in P. For any $w$ with input $n$ in the logical definition of NP, $|w| = poly(n)$. A basic example that shows $|w| = O(\\log n)$ is solving for a numbers greatest common divisor; where $n=2$ for the two integer inputs and $w$ is their gcd. Solving for the gcd would be $O(logn)$ based on the number of inputs which is in Polynomial time. Any such property that is a subset of NP is in the complexity class P.\n",
    "\n",
    "***"
   ]
  },
  {
   "cell_type": "markdown",
   "metadata": {},
   "source": [
    "(b) Well done, Dumbledore says. Now, explain why the logical definition of NP implies that any problem in NP can be solved by an exponential time algorithm."
   ]
  },
  {
   "cell_type": "markdown",
   "metadata": {},
   "source": [
    "Exponential time means that every possible type of witness is used to solve the problem. In other words, **any** problem can be solved in exponential time. Because $P \\subseteq NP \\subseteq Exp$, any problems that can be solved in NP can be solved in exponential time.\n",
    "\n",
    "***"
   ]
  },
  {
   "cell_type": "markdown",
   "metadata": {},
   "source": [
    "(c) Dumbledore then asks the class: \"So, is NP a good formalization of the notion of problems that can be solved by brute force? Discuss.'' Give arguments for both possible answers."
   ]
  },
  {
   "cell_type": "markdown",
   "metadata": {},
   "source": [
    "No  - A better formalization of this notion is that Exponential Time encompasses problems that can be solved by pure brute force.  \n",
    "\n",
    "Yes - The range of questions that can be solved by NP can also be solved by EXP (by the same logic in part b), therfore they can be nearly solved in the same brute force method.\n",
    "\n",
    "***"
   ]
  },
  {
   "cell_type": "markdown",
   "metadata": {},
   "source": [
    "### Problem 3\n",
    "\n",
    "(30 pts total) The Order of the Phoenix is trying to arrange to watch all the corridors in Hogwarts, to look out for any Death Eaters. Professor McGonagall has developed a new spell, Multi-Directional Sight, which allows a person to get a 360-degree view of where they are currently standing. Thus, if they are able to place a member of the Order at every intersection of hallways, they'll be able to monitor all hallways. In order not to spare any personnel, they want to place as few people as possible at intersections, while still being able to monitor every hallway. (And they really need to monitor every hallway, since Death Eaters could use Apparition to teleport into an arbitrary hallway in the middle of the school.) Call a subset $S$ of intersections is **safe**, if, by placing a member of the Order at each intersection in $S$, every hallway is watched."
   ]
  },
  {
   "cell_type": "markdown",
   "metadata": {},
   "source": [
    "(a) Formulate the above as an optimization problem on a graph. Argue that your formulation is an accurate reflection of the problem. In your formulation, show that the following problem is in NP: Given a graph $G$ and an integer $k$, decide whether there a safe subset of size $\\leq k$."
   ]
  },
  {
   "cell_type": "markdown",
   "metadata": {
    "collapsed": true
   },
   "source": [
    "For the above problem, we can formulate a graph where edges represent hallways in hogwarts and vertices represent the intersections where wizards can be placed. In this model, wizards at a vertex can monitor all edges (hallways) that are connected to it, but they cannot monitor edges connected to other vertices. \n",
    "\n",
    "In a graph G given arbitary integer k, there can be up to $2^k$ subsets of graphs with varying vertices and edges. Determining out of all subsets in a graph that there is at least one $(size \\leq k)$ that has enough nodes to safely cover the edges in the subset **cannot** be solved in log(n) time. This means that it is a problem in NP.\n",
    "\n",
    "***"
   ]
  },
  {
   "cell_type": "markdown",
   "metadata": {},
   "source": [
    "(b) Consider the following greedy algorithm to find a safe subset:\n",
    "\n",
    "    S = empty\n",
    "    mark all hallways unwatched\n",
    "    while there is an unwatched intersection\n",
    "        pick any unwatched hallway; let u,v be its endpoints\n",
    "        add u to S\n",
    "        for all hallways h with u as one of its endpoints\n",
    "            mark h watched\n",
    "        end\n",
    "    end\n",
    "    \n",
    "Although this algorithm need not find the minimum number of people needed to cover all hallways, prove that it always outputs a safe set, and prove that it always runs in polynomial time."
   ]
  },
  {
   "cell_type": "markdown",
   "metadata": {},
   "source": [
    "This greedy algorithm takes an unwatched hallway, marks one of it's vertices $u$ as watched, then adds all other hallways attached to $u$ to the marked set. The algorithm repeats as long as their are vertices not in S. In order to be considered a safe set, all hallways must be marked as watched. Because the algorithm will not exit until every node is marked as watched, it must always return a safe set.\n",
    "\n",
    "The best case running-time for this algorithm would be O(1) if there were minimum edges in the graph. The worst case running time if the graph had $E$ edges would be $O(E^2)$, because the algo would go through every edge in the graph and it's connected nodes. The input of our algo is a polynomial that represents the number of vertices in the graph $V$. The number of Edges in the graph is at *most* $V^2$ if every node has an edge to every other node. Therefore, since E is a polynomial, $O(E^2)$ runs in polynomial time.\n",
    "\n",
    "***"
   ]
  },
  {
   "cell_type": "markdown",
   "metadata": {},
   "source": [
    "(c) Note that, in order to be polynomial-time, an algorithm for this problem cannot simply try all possible subsets of intersections. Prove why not."
   ]
  },
  {
   "cell_type": "markdown",
   "metadata": {},
   "source": [
    "In order to solve the problem by trying all possible subsets, we would be solving a problem $O(2^V)$ where V is a polynomial that represents the number of vertices input to the algo. This solution cannot be polynomial time because the big O time is taking a constant to the power of a polynomial which is in NP.\n",
    "\n",
    "***"
   ]
  },
  {
   "cell_type": "markdown",
   "metadata": {},
   "source": [
    "(d) Give an example where the algorithm from 3b outputs a safe set that is strictly larger than the smallest one. In other words, give a graph $G$, give a list of vertices in the order in which they are picked by the algorithm, and a safe set in $G$ which is strictly smaller than the safe set output by the algorithm."
   ]
  },
  {
   "cell_type": "markdown",
   "metadata": {},
   "source": [
    "<img src=\"https://github.com/MichaelMerola/CSCI3104/blob/master/Homework-10/problem3_pics/partd.jpg?raw=true\" style=\"width:35%;height:35%;\" >\n",
    "\n",
    "The above graph represents an optimal safe set that is smaller than the output of the algo from (b). The black node has a wizard placed there who monitors the edges, while the white nodes are empty. The output of the algorithm would take the nodes on the outside and place wizards in them to monitor the inner hallways. The output of the algorithm would be much bigger than the optimal solution because it would place more wizards than nessecary.\n",
    "\n",
    "***"
   ]
  },
  {
   "cell_type": "markdown",
   "metadata": {},
   "source": [
    "(e) Consider the following algorithm:\n",
    "\n",
    "    S = empty\n",
    "    mark all hallways unwatched\n",
    "    while there is an unwatched hallway\n",
    "        pick any unwatched hallway; let u,v be its endpoints\n",
    "        add u,v to S\n",
    "        for all hallways h with u or v one of their endpoints\n",
    "            mark h watched\n",
    "        end\n",
    "    end\n",
    "    \n",
    "Although this algorithm need not find the minimum number of people needed to cover all hallways, prove that it always outputs a safe set, and prove that it always runs in polynomial time."
   ]
  },
  {
   "cell_type": "markdown",
   "metadata": {},
   "source": [
    "This algorithm is similar to the one in (b), but it adds wizards to both ends of the unwatched hallway in the first loop and then marks all hallway's attached to both wizards. Essentially, the task of both is being accomplished slightly different. The worst case runtime for this algorithm is the same as (b), which is $O(E^2)$. Because the number of edges in the graph is polynomial, then the running time $O(E^2)$ is in polynomial time. (same logic in part b)\n",
    "\n",
    "***"
   ]
  },
  {
   "cell_type": "markdown",
   "metadata": {},
   "source": [
    "(f) In any safe set of intersections, each hallway is watched by at least one member of the Order. Use this to show that the algorithm from 3e always outputs a safe set whose size is no more than twice the size of the smallest safe set. Note: you don't need to know what the smallest safe set is to prove this! All you need is the fact stated here.\n",
    "This is called a 2-approximation algorithm, because it is guaranteed to output a solution that is no worse than a factor of 2 times an optimal solution."
   ]
  },
  {
   "cell_type": "markdown",
   "metadata": {},
   "source": [
    "Because the algorithm in (e) adds wizards at each end of the hallway, more hallways will be covered during the loop so there will be less wizards placed down than the previous algorithm. Using the example graph from (d), the algorithm would choose an outer node to mark first, then would mark the middle node. At this point, all hallways would be watched and we only placed twice the amount of wizards than the optimal.\n",
    "\n",
    "***"
   ]
  },
  {
   "cell_type": "markdown",
   "metadata": {},
   "source": [
    "(g) Does the algorithm from 3b always produce a safe set no bigger than that produced by the algorithm in 3e? If so, give a proof; if not, give a counterexample. A counterexample here consists of a graph, and for each algorithm, the list of vertices it chooses in the order it chooses them, such that the safe set output by algorithm 3b is at least as large as the safe set output by algorithm 3e. If you are unable to give either a proof or a counterexample, then for partial credit give a plausible intuitive argument for your answer."
   ]
  },
  {
   "cell_type": "markdown",
   "metadata": {},
   "source": [
    "**No**, the (3b) algorithm would produce safe sets twice as big as the algo from (3e). "
   ]
  },
  {
   "cell_type": "markdown",
   "metadata": {},
   "source": [
    "(h) Compare the greedy algorithm from 3e with the greedy algorithm from 3b. Show which runs faster asymptotically? Which of these two algorithms would you rather use to solve the Order of the Phoenix's problem and why?"
   ]
  },
  {
   "cell_type": "code",
   "execution_count": null,
   "metadata": {
    "collapsed": true
   },
   "outputs": [],
   "source": []
  },
  {
   "cell_type": "markdown",
   "metadata": {},
   "source": [
    "(i) This problem is, in fact, NP-complete. Why does the 2-approximation polynomial-time algorithm from 3e not show that P=NP?"
   ]
  },
  {
   "cell_type": "code",
   "execution_count": null,
   "metadata": {
    "collapsed": true
   },
   "outputs": [],
   "source": []
  },
  {
   "cell_type": "markdown",
   "metadata": {},
   "source": [
    "### Problem 4\n",
    "\n",
    "(20 pts extra credit) Every young wizard learns the classic NP-complete problem of determining whether some unweighted, undirected graph $G = (V,E)$ contains a simple path of length at least $k$ (where both $G$ and $k$ are part of the input to the problem), known as the Longest Path Problem. Recall that a simple path is a path $(v_1, v_2, ... , v_\\ell)$ where each $(v_i, v_{i+1})$ in the path is an edge, and all the $v_i$ are distinct; its length is $\\ell-1$ (=the number of edges in the path)."
   ]
  },
  {
   "cell_type": "code",
   "execution_count": null,
   "metadata": {
    "collapsed": true
   },
   "outputs": [],
   "source": []
  },
  {
   "cell_type": "markdown",
   "metadata": {},
   "source": [
    "### Problem 5\n",
    "\n",
    "(20 pts extra credit) Recall that the MergeSort algorithm (Chapter 2.3 of CLRS) is a sorting algorithm that takes $\\Theta(n \\log n)$ time and $\\Theta(n)$ space. In this problem, you will implement and instrument **MergeSort**, then perform a numerical experiment that verifies this asymptotic analysis. There are two functions and one experiment to do this.\n",
    "\n",
    "**MergeSort(A, n)** takes as input an unordered array $A$, of length $n$, and returns both an in-place sorted version of $A$ and a count $t$ of the number of atomic operations performed by **MergeSort**.\n",
    "\n",
    "\n",
    "**randomArray(n)** takes as input an integer $n$ and returns an array $A$ such that for each $0 \\leq i < n$, $A[i]$ is a uniformly random integer between 1 and $n$. (It is okay if $A$ is a random permutation of the first $n$ positive integers; see the end of Chapter 5.3.)\n"
   ]
  },
  {
   "cell_type": "markdown",
   "metadata": {},
   "source": [
    "(a) From scratch, implement the functions **MergeSort** and **randomArray**. You may not use any library functions that make their implementation trivial. You may use a library function that implements a pseudorandom number generator in order to implement **randomArray**.\n",
    "\n",
    "Submit a paragraph that explains how you instrumented **MergeSort**, i.e., explain which operations you counted and why these are the correct ones to count."
   ]
  },
  {
   "cell_type": "code",
   "execution_count": 39,
   "metadata": {},
   "outputs": [],
   "source": [
    "\n",
    "\n",
    "def randomArray(n):\n",
    "    A = np.random.uniform(1, n, size=n)\n",
    "    return A\n",
    "\n",
    "def merge(A, left, mid, right, count):\n",
    "    p = []\n",
    "    \n",
    "    L = MergeSort(A[:mid])\n",
    "    R = MergeSort(A[mid:])\n",
    "    \n",
    "    lengthL = len(L)\n",
    "    lengthR = len(R)\n",
    "    \n",
    "    count += 4\n",
    "    \n",
    "    while lengthL != 0 and lengthR != 0:\n",
    "        \n",
    "        if L[0] < R[0]:\n",
    "            p.append(L[0])\n",
    "            L.remove(L[0])\n",
    "            count += 3\n",
    "            \n",
    "        else:\n",
    "            p.append(R[0])\n",
    "            R.remove(R[0])\n",
    "            count += 2\n",
    "    #end while\n",
    "            \n",
    "    if lengthL == 0:\n",
    "        p += R\n",
    "        count += 3\n",
    "    else:\n",
    "        p += L\n",
    "        count += 1\n",
    "        \n",
    "    return p, count\n",
    "#end merge\n",
    "\n",
    "def MergeSort(A, n, count):\n",
    "    \n",
    "    mid = math.floor(n/2)\n",
    "    left = len(A[:mid])\n",
    "    right = len(A[mid:])\n",
    "    count += 1\n",
    "    \n",
    "    if (left < right):\n",
    "        MergeSort(A, left, count)\n",
    "        MergeSort(A, right, count)\n",
    "        A, count = merge(A, left, mid, right, count)\n",
    "        \n",
    "    return (A, count)"
   ]
  },
  {
   "cell_type": "markdown",
   "metadata": {},
   "source": [
    "I implemented merge sort by constructing an array out of the left and right parts of the original array. This algorithm operates recursively. I counted the atomic operations by adding up the number of append, remove, and equals operations in the merge function.\n",
    "\n",
    "***"
   ]
  },
  {
   "cell_type": "markdown",
   "metadata": {},
   "source": [
    "(b) For each of $n = \\{2^4,2^5,...,2^{26},2^{27}\\}$, run **MergeSort(randomArray(n),n)** and record the tuple $(n, \\left<t\\right>)$, where $\\left<t\\right>$ is the average number of operations your function counted over the five repetitions. Use whatever software you like to make a line plot of these 24 data points; overlay on your data a function of the form $T(n) = An\\lg n$, where you choose the constant $A$ so that the function is close to your data.\n",
    "\n",
    "Hint: To increase the aesthetics, use a log-log plot."
   ]
  },
  {
   "cell_type": "code",
   "execution_count": 37,
   "metadata": {},
   "outputs": [
    {
     "name": "stdout",
     "output_type": "stream",
     "text": [
      "Trial:  16 - 0\n",
      "Trial:  16 - 1\n",
      "Trial:  16 - 2\n",
      "Trial:  16 - 3\n",
      "Trial:  16 - 4\n",
      "Trial:  32 - 0\n",
      "Trial:  32 - 1\n",
      "Trial:  32 - 2\n",
      "Trial:  32 - 3\n",
      "Trial:  32 - 4\n",
      "Trial:  64 - 0\n",
      "Trial:  64 - 1\n",
      "Trial:  64 - 2\n",
      "Trial:  64 - 3\n",
      "Trial:  64 - 4\n",
      "Trial:  128 - 0\n",
      "Trial:  128 - 1\n",
      "Trial:  128 - 2\n",
      "Trial:  128 - 3\n",
      "Trial:  128 - 4\n",
      "Trial:  256 - 0\n",
      "Trial:  256 - 1\n",
      "Trial:  256 - 2\n",
      "Trial:  256 - 3\n",
      "Trial:  256 - 4\n",
      "Trial:  512 - 0\n",
      "Trial:  512 - 1\n",
      "Trial:  512 - 2\n",
      "Trial:  512 - 3\n",
      "Trial:  512 - 4\n",
      "Trial:  1024 - 0\n",
      "Trial:  1024 - 1\n",
      "Trial:  1024 - 2\n",
      "Trial:  1024 - 3\n",
      "Trial:  1024 - 4\n",
      "Trial:  2048 - 0\n",
      "Trial:  2048 - 1\n",
      "Trial:  2048 - 2\n",
      "Trial:  2048 - 3\n",
      "Trial:  2048 - 4\n",
      "Trial:  4096 - 0\n",
      "Trial:  4096 - 1\n",
      "Trial:  4096 - 2\n",
      "Trial:  4096 - 3\n",
      "Trial:  4096 - 4\n",
      "Trial:  8192 - 0\n",
      "Trial:  8192 - 1\n",
      "Trial:  8192 - 2\n",
      "Trial:  8192 - 3\n",
      "Trial:  8192 - 4\n",
      "Trial:  16384 - 0\n",
      "Trial:  16384 - 1\n",
      "Trial:  16384 - 2\n",
      "Trial:  16384 - 3\n",
      "Trial:  16384 - 4\n",
      "Trial:  32768 - 0\n",
      "Trial:  32768 - 1\n",
      "Trial:  32768 - 2\n",
      "Trial:  32768 - 3\n",
      "Trial:  32768 - 4\n",
      "Trial:  65536 - 0\n",
      "Trial:  65536 - 1\n",
      "Trial:  65536 - 2\n",
      "Trial:  65536 - 3\n",
      "Trial:  65536 - 4\n",
      "Trial:  131072 - 0\n",
      "Trial:  131072 - 1\n",
      "Trial:  131072 - 2\n",
      "Trial:  131072 - 3\n",
      "Trial:  131072 - 4\n",
      "Trial:  262144 - 0\n",
      "Trial:  262144 - 1\n",
      "Trial:  262144 - 2\n",
      "Trial:  262144 - 3\n",
      "Trial:  262144 - 4\n",
      "Trial:  524288 - 0\n",
      "Trial:  524288 - 1\n",
      "Trial:  524288 - 2\n",
      "Trial:  524288 - 3\n",
      "Trial:  524288 - 4\n",
      "Trial:  1048576 - 0\n",
      "Trial:  1048576 - 1\n",
      "Trial:  1048576 - 2\n",
      "Trial:  1048576 - 3\n",
      "Trial:  1048576 - 4\n",
      "Trial:  2097152 - 0\n",
      "Trial:  2097152 - 1\n",
      "Trial:  2097152 - 2\n",
      "Trial:  2097152 - 3\n",
      "Trial:  2097152 - 4\n",
      "Trial:  4194304 - 0\n",
      "Trial:  4194304 - 1\n",
      "Trial:  4194304 - 2\n",
      "Trial:  4194304 - 3\n",
      "Trial:  4194304 - 4\n",
      "Trial:  8388608 - 0\n",
      "Trial:  8388608 - 1\n",
      "Trial:  8388608 - 2\n",
      "Trial:  8388608 - 3\n",
      "Trial:  8388608 - 4\n",
      "Trial:  16777216 - 0\n",
      "Trial:  16777216 - 1\n",
      "Trial:  16777216 - 2\n",
      "Trial:  16777216 - 3\n",
      "Trial:  16777216 - 4\n",
      "Trial:  33554432 - 0\n",
      "Trial:  33554432 - 1\n",
      "Trial:  33554432 - 2\n",
      "Trial:  33554432 - 3\n",
      "Trial:  33554432 - 4\n",
      "[1.0, 1.0, 1.0, 1.0, 1.0, 1.0, 1.0, 1.0, 1.0, 1.0, 1.0, 1.0, 1.0, 1.0, 1.0, 1.0, 1.0, 1.0, 1.0, 1.0, 1.0, 1.0]\n"
     ]
    },
    {
     "name": "stderr",
     "output_type": "stream",
     "text": [
      "C:\\Users\\micha\\Anaconda3\\lib\\site-packages\\matplotlib\\axes\\_base.py:3239: UserWarning: Attempting to set identical bottom==top results\n",
      "in singular transformations; automatically expanding.\n",
      "bottom=1.0, top=1.0\n",
      "  'bottom=%s, top=%s') % (bottom, top))\n"
     ]
    },
    {
     "data": {
      "image/png": "[encoded data removed]",
      "text/plain": [
       "<matplotlib.figure.Figure at 0x2162a42d400>"
      ]
     },
     "metadata": {},
     "output_type": "display_data"
    }
   ],
   "source": [
    "\n",
    "def sim(n):\n",
    "    count = 0\n",
    "    \n",
    "    averages = []\n",
    "    trials = [2**i for i in range(4, n)]\n",
    "\n",
    "    model = [14 * (j * np.log2(j)) for j in trials]\n",
    "\n",
    "\n",
    "    for i in trials: #2^(4-26)\n",
    "        sum = 0\n",
    "        for j in range(0, 5):\n",
    "            print(\"Trial: \", i, \"-\", j)\n",
    "            sum += MergeSort(randomArray(i), i, count)[1]\n",
    "        #end for j\n",
    "        averages.append(sum/5)\n",
    "    #end for i\n",
    "    \n",
    "    print(averages)\n",
    "    \n",
    "    plt.loglog(trials, averages)\n",
    "    plt.loglog(trials, model, color='green')\n",
    "    plt.show()\n",
    "    \n",
    "\n",
    "sim(26)"
   ]
  },
  {
   "cell_type": "markdown",
   "metadata": {},
   "source": [
    "## Collaborators\n",
    "\n",
    "\n",
    "George Allison\n",
    "\n",
    "Sofie Mehrotra\n",
    "\n",
    "Krish Dholakiya\n",
    "\n",
    "Gustav Solis"
   ]
  },
  {
   "cell_type": "code",
   "execution_count": null,
   "metadata": {
    "collapsed": true
   },
   "outputs": [],
   "source": []
  }
 ],
 "metadata": {
  "kernelspec": {
   "display_name": "Python 3",
   "language": "python",
   "name": "python3"
  },
  "language_info": {
   "codemirror_mode": {
    "name": "ipython",
    "version": 3
   },
   "file_extension": ".py",
   "mimetype": "text/x-python",
   "name": "python",
   "nbconvert_exporter": "python",
   "pygments_lexer": "ipython3",
   "version": "3.6.3"
  }
 },
 "nbformat": 4,
 "nbformat_minor": 2
}
