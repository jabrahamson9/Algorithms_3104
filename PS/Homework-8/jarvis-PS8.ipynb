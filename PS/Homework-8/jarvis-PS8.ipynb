﻿{
 "cells": [
  {
   "cell_type": "markdown",
   "metadata": {},
   "source": [
    "CSCI 3104 Spring 2018\n",
    "\n",
    "Problem Set 8\n",
    "\n",
    "\n",
    "\n",
    "06/04/2017\n",
    "\n",
    "# Problem Set 8\n",
    "***"
   ]
  },
  {
   "cell_type": "code",
   "execution_count": 1,
   "metadata": {
    "collapsed": true
   },
   "outputs": [],
   "source": [
    "import pandas as pd\n",
    "import numpy as np\n",
    "import matplotlib.pylab as plt\n",
    "%matplotlib inline"
   ]
  },
  {
   "cell_type": "markdown",
   "metadata": {},
   "source": [
    "### Problem 1\n",
    "\n",
    "(10 pts) Ginerva Weasley is playing with the network given below. Help her calculate\n",
    "the number of paths from node 1 to node 14.\n",
    "\n",
    "Hint: assume a “path” must have at least one edge in it to be well defined, and use\n",
    "dynamic programming to fill in a table that counts number of paths from each node j\n",
    "to 14, starting from 14 down to 1.\n",
    "\n",
    "***"
   ]
  },
  {
   "cell_type": "markdown",
   "metadata": {},
   "source": [
    "I solved this problem by hand using a recurrence starting from node 6:\n",
    "\n",
    "a1 : $6 \\rightarrow 14 = 2 paths$\n",
    "\n",
    "a2 : $5 \\rightarrow 14 = a1 + 5 = 7$ ...paths from the last node plus new paths \n",
    "\n",
    "a3 : $4 \\rightarrow 14 = a2 + 7 = 14$\n",
    "\n",
    "a4 : $3 \\rightarrow 14 = a3 + 4 = 18$\n",
    "\n",
    "a5 : $2 \\rightarrow 14 = a4 + 8 = 26$\n",
    "\n",
    "a6 : $1 \\rightarrow 14 = a5 + 4 = 30$\n",
    "\n",
    "*so* there are **30** paths from node 1 to node 14\n",
    "\n",
    "***"
   ]
  },
  {
   "cell_type": "markdown",
   "metadata": {},
   "source": [
    "### Problem 2\n",
    "\n",
    "(10 pts) Ginny Weasley needs your help with her wizardly\n",
    "  homework. She’s trying to come up with an example of a directed\n",
    "  graph $G = (V, E)$, a start vertex $v \\in V$ and a set of tree edges\n",
    "  $E_T \\subseteq E$ such that for each vertex $v \\in V$, the unique path in the\n",
    "  graph $(V, E_T)$ from $s$ to $v$ is a shortest path in $G$, yet the\n",
    "  set of edges $E_T$ cannot be produced by running a depth-first\n",
    "  search on $G$, no matter how the vertices are ordered in each\n",
    "  adjacency list. Include an explanation of why your example satisfies\n",
    "  the requirements."
   ]
  },
  {
   "cell_type": "markdown",
   "metadata": {},
   "source": [
    "\n",
    "\n",
    "<img src=\"https://github.com/MichaelMerola/CSCI3104/blob/master/Homework-8/problem2_graph.jpg?raw=true\" style=\"width:400px;height:400px; transform:rotate(270deg);\">"
   ]
  },
  {
   "cell_type": "markdown",
   "metadata": {},
   "source": [
    "When using DFS to produce a set of edges for this graph, the algorithm would find the path 'START,a,b,d,END' and mark those nodes as 'visited.' On subsequent runs, the algorithm would get to node c and see that node d was visited; then continue to node e without tracking the edge between c and d.\n",
    "\n",
    "***"
   ]
  },
  {
   "cell_type": "markdown",
   "metadata": {},
   "source": [
    "### Problem 3\n",
    "\n",
    "(15 pts) Prof. Dumbledore needs your help to compute the in-\n",
    "  and out-degrees of all vertices in a directed multigraph\n",
    "  $G$. However, he is not sure how to represent the graph so that the\n",
    "  calculation is most efficient. For each of the three possible\n",
    "  representations, express your answers in asymptotic notation (the\n",
    "  only notation Dumbledore understands), in terms of $V$ and $E$, and\n",
    "  justify your claim.\n",
    "  "
   ]
  },
  {
   "cell_type": "markdown",
   "metadata": {},
   "source": [
    "(a) An adjacency matrix representation. Assume the size of the matrix is known."
   ]
  },
  {
   "cell_type": "markdown",
   "metadata": {},
   "source": [
    "For an adjacency matrix representation, the graph should be represented by a V x V matrix where you can represent an edge between vertices with either a 1 or 0.\n",
    "\n",
    "In this case, the representation would be $O(V^2)$\n",
    "\n",
    "***"
   ]
  },
  {
   "cell_type": "markdown",
   "metadata": {},
   "source": [
    "(b) An edge list representation. Assume vertices have arbitrary labels."
   ]
  },
  {
   "cell_type": "markdown",
   "metadata": {},
   "source": [
    "For an edge list representation, the graph is represented by a list of tuples in the form $[(V_1, V_2),(V_2, V_3),...]$ where each tuple marks an edge between two vertices.\n",
    "\n",
    "A search tree is made for each edge to represent the vertices that are connected to it.\n",
    "\n",
    "In this case, the representation would be $O(Elog(V))$\n",
    "\n",
    "***"
   ]
  },
  {
   "cell_type": "markdown",
   "metadata": {},
   "source": [
    "(c) An adjacency list representation. Assume the vector’s length is known."
   ]
  },
  {
   "cell_type": "markdown",
   "metadata": {},
   "source": [
    "For an adjacency list representation, the graph is represented by a list where each V in the list has an attached linked list that represents which other vertices are connected to it by an edge.\n",
    "\n",
    "A search algo would have to run through V vertices and E edges in two distinct arrays.\n",
    "\n",
    "In this case, the representation would be $O(V+E)$\n",
    "\n",
    "***"
   ]
  },
  {
   "cell_type": "markdown",
   "metadata": {},
   "source": [
    "### Problem 4\n",
    "\n",
    "(30 pts) Deep in the heart of the Hogwarts School of\n",
    "  Witchcraft and Wizardry, there lies a magical grey parrot that\n",
    "  demands that any challenger efficiently convert directed multigraphs\n",
    "  into directed simple graphs. If the wizard can correctly solve a\n",
    "  series of arbitrary instances of this problem, the parrot will\n",
    "  unlock a secret passageway.\n",
    "  \n",
    "  Let $G = (E, V)$ denote a directed multigraph. $A$ directed\n",
    "  simple graph is a $G' = (V, E')$, such that $E'$ is derived from the\n",
    "  edges in $E$ so that (i) every directed multiedge, e.g.,\n",
    "  ${(u, v), (u, v)}$ or even simply ${(u, v)}$, has been replaced by a\n",
    "  single directed edge ${(u, v)}$ and (ii) all self-loops $(u, u)$\n",
    "  have been removed.\n",
    "  \n",
    "  Describe and analyze an algorithm (explain how it works, give\n",
    "  pseudocode if necessary, derive its running time and space usage,\n",
    "  and prove its correctness) that takes $O(V + E)$ time and space to\n",
    "  convert $G$ into $G'$, and thereby will solve any of the Sphinx’s\n",
    "  questions. Assume both $G$ and $G'$ are stored as adjacency lists."
   ]
  },
  {
   "cell_type": "markdown",
   "metadata": {},
   "source": [
    "**Describe Algorithm:**\n",
    "\n",
    "  1) Loop thru the length 1st dimension of the adj list by *i*, where variable *head* represents the adjList[i]\n",
    "  \n",
    "  2) For each *head* in the list, traverse thru the linked list of edges where *value* represents the current edge.\n",
    "  \n",
    "  3) if the *head* does not equal *value* and *value* has not been seen yet,\n",
    "  \n",
    "          Mark the value as visited\n",
    "          Add the value to the appropriate position in a new adjacency list\n",
    "          \n",
    "  4) repeat the process until every *head* has been evaluated and the new adjList has been built"
   ]
  },
  {
   "cell_type": "markdown",
   "metadata": {},
   "source": [
    "**Running Time**\n",
    "\n",
    "Since we run thru V vertices and evaluate E edges during the algorithm, its running time would be $O(V+E)$\n",
    "\n",
    "The Space Complexity is also $O(V+E)$ because it accounts for the size of the new adjacency list created."
   ]
  },
  {
   "cell_type": "markdown",
   "metadata": {},
   "source": [
    "**Correctness**\n",
    "\n",
    "Because this algorithm is merely transposing the original correct graph into a more condensed graph, the correctness for the algorithm relies on the code that eliminates self-loops and repeats from the original graph.\n",
    "\n",
    "In step 3 of my algo, only edges that are not equal to the head and have not been repeated can be added to the new adjacency list. Because these are the only operations performed to change the graph, the new graph retains its validity as a structure and therefore my algorithm is correct.\n",
    "\n",
    "***"
   ]
  },
  {
   "cell_type": "markdown",
   "metadata": {},
   "source": [
    "# Collaborators \n",
    "\n",
    "Krish Dholakiya\n",
    "\n",
    "Gustav Solis\n",
    "\n",
    "Eric Weng\n",
    "\n",
    "***"
   ]
  },
  {
   "cell_type": "code",
   "execution_count": null,
   "metadata": {
    "collapsed": true
   },
   "outputs": [],
   "source": []
  }
 ],
 "metadata": {
  "kernelspec": {
   "display_name": "Python 3",
   "language": "python",
   "name": "python3"
  },
  "language_info": {
   "codemirror_mode": {
    "name": "ipython",
    "version": 3
   },
   "file_extension": ".py",
   "mimetype": "text/x-python",
   "name": "python",
   "nbconvert_exporter": "python",
   "pygments_lexer": "ipython3",
   "version": "3.6.3"
  }
 },
 "nbformat": 4,
 "nbformat_minor": 2
}
