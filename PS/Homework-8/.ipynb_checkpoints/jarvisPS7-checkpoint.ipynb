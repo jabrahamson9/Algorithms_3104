﻿{
 "cells": [
  {
   "cell_type": "markdown",
   "metadata": {},
   "source": [
    "CSCI 3104 Spring 2018\n",
    "\n",
    "Problem Set 7\n",
    "\n",
    "\n",
    "\n",
    "06/04/2017\n",
    "\n",
    "# Problem Set 7\n",
    "***"
   ]
  },
  {
   "cell_type": "code",
   "execution_count": 5,
   "metadata": {
    "collapsed": true
   },
   "outputs": [],
   "source": [
    "import pandas as pd\n",
    "import numpy as np\n",
    "import matplotlib.pylab as plt\n",
    "%matplotlib inline\n",
    "\n",
    "namedata_path = 'https://www2.census.gov/topics/genealogy/1990surnames/dist.all.last'"
   ]
  },
  {
   "cell_type": "markdown",
   "metadata": {},
   "source": [
    "### Problem 1\n",
    "\n",
    "(45 pts) Recall that the string alignment problem takes as\n",
    "    input two strings $x$ and $y$, composed of symbols\n",
    "    $x_i , y_j \\in \\Sigma$, for a fixed symbol set $\\Sigma$, and returns a\n",
    "    minimal-cost set of edit operations for transforming the string\n",
    "    $x$ into string $y$.\n",
    "\n",
    "  Let $x$ contain $n_x$ symbols, let $y$ contain $n_y$\n",
    "    symbols, and let the set of edit operations be those defined in\n",
    "    the lecture notes (substitution, insertion, deletion, and\n",
    "    transposition).\n",
    "\n",
    "  Let the cost of indel be 1, the cost of\n",
    "    swap be 13 (plus the cost of the two sub ops), and the\n",
    "    cost of sub be 12, except when $x_i = y_j$ , which is a\n",
    "    \"no-op\" and has cost 0.\n",
    "\n",
    "  In this problem, we will implement and apply three functions.\n",
    " "
   ]
  },
  {
   "cell_type": "markdown",
   "metadata": {},
   "source": [
    "(i) alignStrings(x,y) takes as input two ASCII strings x and y, and runs a dynamic\n",
    "programming algorithm to return the cost matrix S, which contains the optimal costs\n",
    "for all the subproblems for aligning these two strings"
   ]
  },
  {
   "cell_type": "markdown",
   "metadata": {},
   "source": [
    "(ii) extractAlignment(S,x,y) takes as input an optimal cost matrix S, strings x; y,\n",
    "and returns a vector a that represents an optimal sequence of edit operations to convert\n",
    "x into y. This optimal sequence is recovered by finding a path on the implicit DAG of\n",
    "decisions made by alignStrings to obtain the value S[nx; ny], starting from S[0; 0]."
   ]
  },
  {
   "cell_type": "markdown",
   "metadata": {},
   "source": [
    "(iii) commonSubstrings(x,L,a) which takes as input the ASCII string x, an integer\n",
    "1 ≤ L ≤ nx, and an optimal sequence a of edits to x, which would transform x into\n",
    "y. This function returns each of the substrings of length at least L in x that aligns\n",
    "exactly, via a run of no-ops, to a substring in y.\n",
    "\n",
    "***"
   ]
  },
  {
   "cell_type": "markdown",
   "metadata": {},
   "source": [
    "(a) From scratch, implement the functions alignStrings, extractAlignment, and\n",
    "commonSubstrings. You may not use any library functions that make their implementation trivial. Within your implementation of extractAlignment, ties must\n",
    "be broken uniformly at random.\n",
    "Submit (i) a paragraph for each function that explains how you implemented it\n",
    "(describe how it works and how it uses its data structures), and (ii) your code\n",
    "implementation, with code comments.\n",
    "Hint: test your code by reproducing the APE / STEP and the EXPONENTIAL /\n",
    "POLYNOMIAL examples in the lecture notes (to do this exactly, you’ll need to use\n",
    "unit costs instead of the ones given above)"
   ]
  },
  {
   "cell_type": "markdown",
   "metadata": {},
   "source": [
    "**I Don't Know**"
   ]
  },
  {
   "cell_type": "markdown",
   "metadata": {},
   "source": [
    "(b) Using asymptotic analysis, determine the running time of the call\n",
    "commonSubstrings(x, L, extractAlignment( alignStrings(x,y), x,y ) )\n",
    "Justify your answer."
   ]
  },
  {
   "cell_type": "markdown",
   "metadata": {},
   "source": [
    "**I Don't Know**"
   ]
  },
  {
   "cell_type": "markdown",
   "metadata": {},
   "source": [
    "(c) (15 pts extra credit) Describe an algorithm for counting the number of optimal\n",
    "alignments, given an optimal cost matrix S. Prove that your algorithm is correct,\n",
    "and give is asymptotic running time.\n",
    "Hint: Convert this problem into a form that allows us to apply an algorithm we’ve\n",
    "already seen."
   ]
  },
  {
   "cell_type": "markdown",
   "metadata": {},
   "source": [
    "**I Don't Know**"
   ]
  },
  {
   "cell_type": "markdown",
   "metadata": {},
   "source": [
    "(d) String alignment algorithms can be used to detect changes between different versions of the same document (as in version control systems) or to detect verbatim\n",
    "copying between different documents (as in plagiarism detection systems).\n",
    "The two data string files for PS7 (see class Moodle) contain actual documents\n",
    "recently released by two independent organizations. Use your functions from (1a)\n",
    "to align the text of these two documents. Present the results of your analysis,\n",
    "including a reporting of all the substrings in x of length L = 9 or more that could\n",
    "have been taken from y, and briefly comment on whether these documents could\n",
    "be reasonably considered original works, under CU’s academic honesty policy."
   ]
  },
  {
   "cell_type": "markdown",
   "metadata": {},
   "source": [
    "**I Don't Know**\n",
    "\n",
    "***"
   ]
  },
  {
   "cell_type": "markdown",
   "metadata": {},
   "source": [
    "### Problem 2\n",
    "\n",
    "(20 pts) Ron and Hermione are having a competition to see\n",
    "    who can compute the $n$th Pell number $P_n$ more quickly, without\n",
    "    resorting to magic. Recall that the $n$th Pell number is defined\n",
    "    as $P_n = 2 P_{n-1} + P_{n-2}$ for $n > 1$ with base cases\n",
    "    $P_0 = 0$ and $P_1 = 1$.  Ron opens with the classic recursive\n",
    "    algorithm:"
   ]
  },
  {
   "cell_type": "code",
   "execution_count": null,
   "metadata": {
    "collapsed": true
   },
   "outputs": [],
   "source": [
    "Pell(n):\n",
    "    \n",
    "    # BASE CASE\n",
    "    if (n == 0):\n",
    "        return 0 \n",
    "    elif (n == 1):\n",
    "        return 1\n",
    "    \n",
    "    # ALGO\n",
    "    else:\n",
    "        return 2*Pell(n-1) + Pell(n-2) "
   ]
  },
  {
   "cell_type": "markdown",
   "metadata": {},
   "source": [
    "(a) Hermione counters with a dynamic programming\n",
    "approach that \"memoizes\" (a.k.a.  memorizes) the intermediate\n",
    "Pell numbers by storing them in an array $P[n]$. She claims\n",
    "this allows an algorithm to compute larger Pell numbers more\n",
    "quickly, and writes down the following algorithm."
   ]
  },
  {
   "cell_type": "code",
   "execution_count": null,
   "metadata": {
    "collapsed": true
   },
   "outputs": [],
   "source": [
    "MemPell(n):\n",
    "    \n",
    "    # BASE CASE\n",
    "    if (n == 0): \n",
    "        return 0\n",
    "    else if (n == 1):\n",
    "        return 1\n",
    "    \n",
    "    # ALGO\n",
    "    else:\n",
    "        if (P[n] == undefined):\n",
    "            P[n] = 2*MemPell(n-1) + MemPell(n-2)\n",
    "        return P[n]\n"
   ]
  },
  {
   "cell_type": "markdown",
   "metadata": {},
   "source": [
    "(i) Describe the behavior of MemPell(n) in terms of a traversal of a computation tree. Describe how the array P is filled.\n",
    "\n",
    "***"
   ]
  },
  {
   "cell_type": "markdown",
   "metadata": {},
   "source": [
    "MemPell calculates the Pell number at n using a recursive computation tree. The root of the tree starts with MemPell(n) and branches each time on the left with MemPell(n-1) and on the right with MemPell(n-2). At each branch, the Pell number at n is calculated recursively and continues until the tree reaches the base case. Then each value is calculated as the tree returns through the branches. However, each value is only calculated once because the algorithm checks if there is no value at \"n\", and stores the Pell value  at *n* in the array. Because of this check, the computation tree \n",
    "does not need to recomputate redundant values and stays efficient.\n",
    "\n",
    "\n",
    "<img src=\"https://github.com/MichaelMerola/CSCI3104/blob/master/Homework-7/pellComputationTree.jpg?raw=true\" style=\"width:400px;height:400px;\">\n",
    "\n",
    "\n",
    "***"
   ]
  },
  {
   "cell_type": "markdown",
   "metadata": {},
   "source": [
    "(ii) Determine the asymptotic running time of MemPell. Prove your claim is correct by induction on the contents of the array."
   ]
  },
  {
   "cell_type": "markdown",
   "metadata": {
    "collapsed": true
   },
   "source": [
    "According to the computation tree for MemPell, the algorithm calculates each value from the base case to *n* only **once**. Because the algo does *n* operations over a span of *log(n)* recursions, its asymptoticrunning time is $O(n)$.\n",
    "\n",
    "***"
   ]
  },
  {
   "cell_type": "markdown",
   "metadata": {
    "collapsed": true
   },
   "source": [
    "(b) Ron then claims that he can beat Hermione's\n",
    "      dynamic programming algorithm in both time and space with\n",
    "      another dynamic programming algorithm, which eliminates the\n",
    "      recursion completely and instead builds up directly to the final\n",
    "      solution by filling the P array in order. Ron's new algorithm is"
   ]
  },
  {
   "cell_type": "code",
   "execution_count": null,
   "metadata": {
    "collapsed": true
   },
   "outputs": [],
   "source": [
    "def DynPell(n) :\n",
    "    P = []\n",
    "    # BASE CASE\n",
    "    P[0] = 0\n",
    "    P[1] = 1\n",
    "    \n",
    "    # ALGO\n",
    "    for i in range(2, n) :\n",
    "        P[i] = 2*P[i-1] + P[i-2]\n",
    "    \n",
    "    return P[n]"
   ]
  },
  {
   "cell_type": "markdown",
   "metadata": {},
   "source": [
    "Determine the time and space usage of DynPell(n). Justify your answers and compare them to the answers in part (2a).\n",
    "\n",
    "***"
   ]
  },
  {
   "cell_type": "markdown",
   "metadata": {},
   "source": [
    "$ \\sum_{i=2}^{n} P[i] = 2*P[i-1] + P[i-2] $\n",
    "\n",
    "*so* the **time complexity** for DynPell(n) is $O(n)$ \n",
    "\n",
    "Because the algorithm stores all calculatations in an array of size **n**...\n",
    "\n",
    "**space complexity** for DynPell(n) is $O(n)$ \n",
    "\n",
    "DynPell is faster than MemPell because it avoids using recursion to solve the Pell calculations, but both have the same space complexity because they dynamically store calculations.\n",
    "\n",
    "***"
   ]
  },
  {
   "cell_type": "markdown",
   "metadata": {},
   "source": [
    "(c) With a gleam in her eye, Hermione tells Ron that she can do everything he can\n",
    "do better: she can compute the nth Pell number even faster because intermediate\n",
    "results do not need to be stored. Over Ron’s pathetic cries, Hermione says"
   ]
  },
  {
   "cell_type": "code",
   "execution_count": null,
   "metadata": {
    "collapsed": true
   },
   "outputs": [],
   "source": [
    "FasterPell(n) :\n",
    "    a = 0 \n",
    "    b = 1\n",
    "    for i in range(2, n):\n",
    "        c = 2*a + b\n",
    "        a = b\n",
    "        b = c\n",
    "        \n",
    "    return a"
   ]
  },
  {
   "cell_type": "markdown",
   "metadata": {},
   "source": [
    "Ron giggles and says that Hermione has a bug in her algorithm. Determine\n",
    "the error, give its correction, and then determine the time and space usage of\n",
    "FasterPell(n). Justify your claims."
   ]
  },
  {
   "cell_type": "markdown",
   "metadata": {},
   "source": [
    "**Bug** : $c = 2*a + b$ ; **Correct** : $c = 2*b + a$\n",
    "\n",
    "**Bug** : return a  ; **Correct** : return c\n",
    "\n",
    "b is equivalent to $n-1$ and a is equivalent to $n-2$, so a&b need to be swapped for the algo to calculate Pell correctly. You also need to return c instead of a because c is the most recent calculation.\n",
    "\n",
    "The algo runs thru n operations in the for loop, so its **time complexity** is $O(n)$\n",
    "\n",
    "FasterPell() only stores the past two calculations to operate, so its **space complexity** is atomic, $O(1)$\n",
    "\n",
    "***"
   ]
  },
  {
   "cell_type": "markdown",
   "metadata": {},
   "source": [
    "(d) In a table, list each of the four algorithms as columns and for each give its asymptotic time and space requirements, along with the implied or explicit data structures that each requires. Briefly discuss how these different approaches compare, and where the improvements come from. (Hint: what data structure do all recursive algorithms implicitly use?)"
   ]
  },
  {
   "cell_type": "code",
   "execution_count": 3,
   "metadata": {},
   "outputs": [
    {
     "ename": "SyntaxError",
     "evalue": "invalid syntax (<ipython-input-3-f260df21cd24>, line 2)",
     "output_type": "error",
     "traceback": [
      "\u001b[1;36m  File \u001b[1;32m\"<ipython-input-3-f260df21cd24>\"\u001b[1;36m, line \u001b[1;32m2\u001b[0m\n\u001b[1;33m    Algorithm  | Time Complexity | Space Complexity | Structure\u001b[0m\n\u001b[1;37m                               ^\u001b[0m\n\u001b[1;31mSyntaxError\u001b[0m\u001b[1;31m:\u001b[0m invalid syntax\n"
     ]
    }
   ],
   "source": [
    "\n",
    "Algorithm  | Time Complexity | Space Complexity | Structure  \n",
    "------------------------------------------------------------------------\n",
    "Pell       | O(2^n)        | O(n)             | Full Binary Tree      \n",
    "MemPell    | O(n)            | O(n)             | Unbalanced Tree, Array \n",
    "DynPell    | O(n)            | O(n)             | Array                  \n",
    "FasterPell | O(n)            | O(1)             | none           \n",
    "\n",
    "\n",
    "\n"
   ]
  },
  {
   "cell_type": "markdown",
   "metadata": {},
   "source": [
    "(e) Implement FasterPell and then compute $P_n$ where n is the\n",
    "      four-digit number representing your MMDD birthday, and report\n",
    "      the first five digits of $P_n$. Now, assuming that it takes one\n",
    "      nanosecond per operation, estimate the number of years required\n",
    "      to compute $P_n$ using Ron's classic recursive algorithm and\n",
    "      compare that to the clock time required to compute $P_n$ using\n",
    "      FasterPell."
   ]
  },
  {
   "cell_type": "code",
   "execution_count": 8,
   "metadata": {},
   "outputs": [
    {
     "name": "stdout",
     "output_type": "stream",
     "text": [
      "230246620914176820141456845770598896162861313737509419202263096964257818892799338835101620592053346738933734679165793700298055130633235308798490800928141280027925124576247588183007048570885674034909966955351388178874130370044651005\n",
      "\n",
      "23024\n"
     ]
    }
   ],
   "source": [
    "def FasterPell(n) :\n",
    "    a = 0 \n",
    "    b = 1\n",
    "    for i in range(2, n):\n",
    "        c = 2*b + a\n",
    "        a = b\n",
    "        b = c\n",
    "        \n",
    "    return c\n",
    "\n",
    "birthday = 604\n",
    "print(FasterPell(birthday))\n",
    "print()\n",
    "print(\"23024\")"
   ]
  },
  {
   "cell_type": "markdown",
   "metadata": {},
   "source": [
    "**FasterPell Clocktime: **\n",
    "\n",
    "    - 5 atomic operations, so 5 ns per loop\n",
    "    - loop runs 602 times\n",
    "    \n",
    "5 * 602 = 3010 ns\n",
    "    \n",
    "**ClassicPell Clocktime: **\n",
    "\n",
    "3 atomic operations, so 3 ns per recursion\n",
    "    \n",
    "$2^{602}$ =  recursive calls\n",
    "    \n",
    "$(2^{602} * 3) * 1e-9 = t_s $ ...time in seconds\n",
    "\n",
    "$ t_s / 31,536,000 $ ...seconds to days\n",
    "\n",
    "$= 1.5789^{165}$ years\n",
    "\n",
    "The clocktime for fasterPell is significantly smaller than for classicPell. The biggest drawback to the recursive algorithm is its ineffecient computation binary tree.\n",
    "\n",
    "***"
   ]
  },
  {
   "cell_type": "markdown",
   "metadata": {},
   "source": [
    "# Sources\n",
    "***\n",
    "### People\n",
    "Krish Dholakiya\n",
    "\n",
    "Gustav Solis\n",
    "\n",
    "George Allison\n",
    "\n",
    "Selena Quintilla\n",
    "\n",
    "Eric Weng\n",
    "\n",
    "***"
   ]
  },
  {
   "cell_type": "code",
   "execution_count": null,
   "metadata": {
    "collapsed": true
   },
   "outputs": [],
   "source": []
  }
 ],
 "metadata": {
  "kernelspec": {
   "display_name": "Python 3",
   "language": "python",
   "name": "python3"
  },
  "language_info": {
   "codemirror_mode": {
    "name": "ipython",
    "version": 3
   },
   "file_extension": ".py",
   "mimetype": "text/x-python",
   "name": "python",
   "nbconvert_exporter": "python",
   "pygments_lexer": "ipython3",
   "version": "3.6.3"
  }
 },
 "nbformat": 4,
 "nbformat_minor": 2
}
