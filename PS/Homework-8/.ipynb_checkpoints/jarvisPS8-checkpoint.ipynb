﻿{
 "cells": [
  {
   "cell_type": "markdown",
   "metadata": {},
   "source": [
    "CSCI 3104 Spring 2018\n",
    "\n",
    "Problem Set 8\n",
    "\n",
    "\n",
    "\n",
    "06/04/2017\n",
    "\n",
    "# Problem Set 8\n",
    "***"
   ]
  },
  {
   "cell_type": "code",
   "execution_count": 1,
   "metadata": {
    "collapsed": true
   },
   "outputs": [],
   "source": [
    "import pandas as pd\n",
    "import numpy as np\n",
    "import matplotlib.pylab as plt\n",
    "%matplotlib inline"
   ]
  },
  {
   "cell_type": "markdown",
   "metadata": {},
   "source": [
    "### Problem 1\n",
    "\n",
    "(10 pts) Ginerva Weasley is playing with the network given below. Help her calculate\n",
    "the number of paths from node 1 to node 14.\n",
    "Hint: assume a “path” must have at least one edge in it to be well defined, and use\n",
    "dynamic programming to fill in a table that counts number of paths from each node j\n",
    "to 14, starting from 14 down to 1.\n"
   ]
  },
  {
   "cell_type": "markdown",
   "metadata": {},
   "source": [
    "I solved this problem by hand using a recurrence starting from node 6:\n",
    "\n",
    "a1 : $6 \\rightarrow 14 = 2 paths$\n",
    "\n",
    "a2 : $5 \\rightarrow 14 = a1 + 5 = 7$ ...paths from the last node plus new paths \n"
   ]
  },
  {
   "cell_type": "markdown",
   "metadata": {},
   "source": [
    "# Sources\n",
    "***\n",
    "### People\n",
    "Krish Dholakiya\n",
    "\n",
    "Gustav Solis\n",
    "\n",
    "George Allison\n",
    "\n",
    "Selena Quintilla\n",
    "\n",
    "Eric Weng\n",
    "\n",
    "***"
   ]
  },
  {
   "cell_type": "code",
   "execution_count": null,
   "metadata": {
    "collapsed": true
   },
   "outputs": [],
   "source": []
  }
 ],
 "metadata": {
  "kernelspec": {
   "display_name": "Python 3",
   "language": "python",
   "name": "python3"
  },
  "language_info": {
   "codemirror_mode": {
    "name": "ipython",
    "version": 3
   },
   "file_extension": ".py",
   "mimetype": "text/x-python",
   "name": "python",
   "nbconvert_exporter": "python",
   "pygments_lexer": "ipython3",
   "version": "3.6.3"
  }
 },
 "nbformat": 4,
 "nbformat_minor": 2
}
